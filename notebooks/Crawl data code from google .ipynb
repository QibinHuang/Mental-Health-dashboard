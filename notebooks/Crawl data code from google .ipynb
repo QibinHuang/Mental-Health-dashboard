from pytrends.request import TrendReq
import pandas as pd
import time
import os

# ✅ Initialize Pytrends with retry strategy
pytrends = TrendReq(hl='en-US', tz=360, retries=3, backoff_factor=5, requests_args={'verify': False})

# ✅ Define paths
data_dir = "data"
output_dir = "output"
os.makedirs(output_dir, exist_ok=True)

# ✅ Read keywords from file
file_path = os.path.join(data_dir, "cleaned_mental_health_keywords.txt")
with open(file_path, "r", encoding="utf-8") as file:
    keywords = [line.strip() for line in file if line.strip() and not line.startswith("#")]

# ✅ Split keywords into batches of size 3 to avoid Google Trends API limitations
batch_size = 3
keyword_batches = [keywords[i:i + batch_size] for i in range(0, len(keywords), batch_size)]

# ✅ Initialize final DataFrame to hold all results
df_all_trends = pd.DataFrame()
failed_batches = []

# ✅ Loop through each batch and fetch trends
for i, batch in enumerate(keyword_batches):
    try:
        print(f"🔄 Fetching data for batch {i+1}/{len(keyword_batches)}: {batch}")

        # Build payload for API call
        pytrends.build_payload(batch, geo='US', timeframe='today 12-m')

        # Get interest by U.S. state
        df_batch = pytrends.interest_by_region()

        # Combine batch results
        if df_all_trends.empty:
            df_all_trends = df_batch
        else:
            df_all_trends = df_all_trends.join(df_batch, how="outer")

        print(f"✅ Successfully retrieved data for batch {i+1}")

    except Exception as e:
        print(f"❌ Failed to fetch data for batch {i+1}: {batch}")
        print(f"Error: {e}")
        failed_batches.append(batch)

    # Avoid rate limiting
    time.sleep(20)

# ✅ Save combined trend data to CSV
output_file = os.path.join(output_dir, "mental_health_trends_all_states.csv")
df_all_trends.to_csv(output_file)
print(f"✅ Google Trends data saved to {output_file}")

# ✅ Save failed batches for troubleshooting
if failed_batches:
    failed_file = os.path.join(output_dir, "failed_batches.txt")
    with open(failed_file, "w") as f:
        for batch in failed_batches:
            f.write(",".join(batch) + "\n")
    print(f"⚠️ Some requests failed. Check 'failed_batches.txt' for details.")
