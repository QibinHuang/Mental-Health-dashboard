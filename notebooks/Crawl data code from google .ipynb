{
 "cells": [
  {
   "cell_type": "code",
   "execution_count": null,
   "metadata": {},
   "outputs": [
    {
     "name": "stderr",
     "output_type": "stream",
     "text": [
      "/Users/qibinhuang/Library/Python/3.11/lib/python/site-packages/urllib3/connectionpool.py:1056: InsecureRequestWarning: Unverified HTTPS request is being made to host 'trends.google.com'. Adding certificate verification is strongly advised. See: https://urllib3.readthedocs.io/en/1.26.x/advanced-usage.html#ssl-warnings\n",
      "  warnings.warn(\n",
      "/Users/qibinhuang/Library/Python/3.11/lib/python/site-packages/urllib3/connectionpool.py:1056: InsecureRequestWarning: Unverified HTTPS request is being made to host 'trends.google.com'. Adding certificate verification is strongly advised. See: https://urllib3.readthedocs.io/en/1.26.x/advanced-usage.html#ssl-warnings\n",
      "  warnings.warn(\n"
     ]
    },
    {
     "name": "stdout",
     "output_type": "stream",
     "text": [
      "🔄 Fetching data for batch 1/120: ['mental health emergency', 'mental health crisis', 'suicide thoughts']\n"
     ]
    },
    {
     "name": "stderr",
     "output_type": "stream",
     "text": [
      "/Users/qibinhuang/Library/Python/3.11/lib/python/site-packages/urllib3/connectionpool.py:1056: InsecureRequestWarning: Unverified HTTPS request is being made to host 'trends.google.com'. Adding certificate verification is strongly advised. See: https://urllib3.readthedocs.io/en/1.26.x/advanced-usage.html#ssl-warnings\n",
      "  warnings.warn(\n"
     ]
    },
    {
     "name": "stdout",
     "output_type": "stream",
     "text": [
      "✅ Successfully retrieved data for batch 1\n"
     ]
    },
    {
     "ename": "KeyboardInterrupt",
     "evalue": "",
     "output_type": "error",
     "traceback": [
      "\u001b[0;31m---------------------------------------------------------------------------\u001b[0m",
      "\u001b[0;31mKeyboardInterrupt\u001b[0m                         Traceback (most recent call last)",
      "Cell \u001b[0;32mIn[1], line 51\u001b[0m\n\u001b[1;32m     48\u001b[0m         failed_batches\u001b[38;5;241m.\u001b[39mappend(batch)  \u001b[38;5;66;03m# Record failed batch for later retry\u001b[39;00m\n\u001b[1;32m     50\u001b[0m     \u001b[38;5;66;03m# 🚨 Sleep to avoid rate-limiting (wait 20 seconds between requests)\u001b[39;00m\n\u001b[0;32m---> 51\u001b[0m     \u001b[43mtime\u001b[49m\u001b[38;5;241;43m.\u001b[39;49m\u001b[43msleep\u001b[49m\u001b[43m(\u001b[49m\u001b[38;5;241;43m20\u001b[39;49m\u001b[43m)\u001b[49m\n\u001b[1;32m     53\u001b[0m \u001b[38;5;66;03m# ✅ Make sure the output directory exists\u001b[39;00m\n\u001b[1;32m     54\u001b[0m output_dir \u001b[38;5;241m=\u001b[39m \u001b[38;5;124mr\u001b[39m\u001b[38;5;124m\"\u001b[39m\u001b[38;5;124m/Users/qibinhuang/Desktop/Desktop - Qibin的MacBook Air/\u001b[39m\u001b[38;5;124m\"\u001b[39m\n",
      "\u001b[0;31mKeyboardInterrupt\u001b[0m: "
     ]
    }
   ],
   "source": [
    "from pytrends.request import TrendReq\n",
    "import pandas as pd\n",
    "import time\n",
    "import os\n",
    "\n",
    "# ✅ Initialize Pytrends\n",
    "pytrends = TrendReq(hl='en-US', tz=360, retries=3, backoff_factor=5, requests_args={'verify': False})\n",
    "\n",
    "# ✅ Read keyword list from file\n",
    "# Read keywords from local 'data' folder\n",
    "file_path = os.path.join(\"data\", \"cleaned_mental_health_keywords.txt\")\n",
    "\n",
    "with open(file_path, \"r\", encoding=\"utf-8\") as file:\n",
    "    keywords = [line.strip() for line in file if line.strip() and not line.startswith(\"#\")]\n",
    "\n",
    "# ✅ Set batch_size to avoid Google Trends API limitation (max 5 keywords per request)\n",
    "batch_size = 3  # Lowered to 3 to reduce API errors\n",
    "keyword_batches = [keywords[i:i + batch_size] for i in range(0, len(keywords), batch_size)]\n",
    "\n",
    "# ✅ Initialize a DataFrame to store all trend data\n",
    "df_all_trends = pd.DataFrame()\n",
    "\n",
    "# ✅ Track failed keyword batches for later retry\n",
    "failed_batches = []\n",
    "\n",
    "# ✅ Loop through each keyword batch to retrieve trend data\n",
    "for i, batch in enumerate(keyword_batches):\n",
    "    try:\n",
    "        print(f\"🔄 Fetching data for batch {i+1}/{len(keyword_batches)}: {batch}\")\n",
    "\n",
    "        # ⏳ Send API request\n",
    "        pytrends.build_payload(batch, geo='US', timeframe='today 12-m')\n",
    "\n",
    "        # 🗺️ Get search interest by U.S. state\n",
    "        df_batch = pytrends.interest_by_region()\n",
    "\n",
    "        # ✅ Combine data\n",
    "        if df_all_trends.empty:\n",
    "            df_all_trends = df_batch\n",
    "        else:\n",
    "            df_all_trends = df_all_trends.join(df_batch, how=\"outer\")\n",
    "\n",
    "        # 🎉 Success log\n",
    "        print(f\"✅ Successfully retrieved data for batch {i+1}\")\n",
    "\n",
    "    except Exception as e:\n",
    "        print(f\"❌ Failed to fetch data for batch {i+1}: {batch}\")\n",
    "        print(f\"Error: {e}\")\n",
    "        failed_batches.append(batch)  # Record failed batch for later retry\n",
    "\n",
    "    # 🚨 Sleep to avoid rate-limiting (wait 20 seconds between requests)\n",
    "    time.sleep(20)\n",
    "\n",
    "# ✅ Make sure the output directory exists\n",
    "output_dir = r\"/Users/qibinhuang/Desktop/Desktop - Qibin的MacBook Air/\"\n",
    "os.makedirs(output_dir, exist_ok=True)\n",
    "\n",
    "# ✅ Save the final compiled dataset to CSV\n",
    "output_file = os.path.join(output_dir, \"mental_health_trends_all_states.csv\")\n",
    "df_all_trends.to_csv(output_file)\n",
    "\n",
    "# ✅ Save failed batches to a file for troubleshooting or retrying\n",
    "if failed_batches:\n",
    "    failed_file = os.path.join(output_dir, \"failed_batches.txt\")\n",
    "    with open(failed_file, \"w\") as f:\n",
    "        for batch in failed_batches:\n",
    "            f.write(\",\".join(batch) + \"\\n\")\n",
    "    print(f\"⚠️ Some requests failed. Check 'failed_batches.txt' for details.\")\n",
    "\n",
    "print(f\"✅ Google Trends data saved to {output_file}\")"
   ]
  }
 ],
 "metadata": {
  "kernelspec": {
   "display_name": "Python 3",
   "language": "python",
   "name": "python3"
  },
  "language_info": {
   "codemirror_mode": {
    "name": "ipython",
    "version": 3
   },
   "file_extension": ".py",
   "mimetype": "text/x-python",
   "name": "python",
   "nbconvert_exporter": "python",
   "pygments_lexer": "ipython3",
   "version": "3.11.5"
  }
 },
 "nbformat": 4,
 "nbformat_minor": 2
}
